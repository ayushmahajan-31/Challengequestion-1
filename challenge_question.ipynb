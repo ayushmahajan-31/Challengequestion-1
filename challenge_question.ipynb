{
  "nbformat": 4,
  "nbformat_minor": 0,
  "metadata": {
    "colab": {
      "provenance": [],
      "authorship_tag": "ABX9TyP6+zF+Siiiu2tz5uK7exqM",
      "include_colab_link": true
    },
    "kernelspec": {
      "name": "python3",
      "display_name": "Python 3"
    },
    "language_info": {
      "name": "python"
    }
  },
  "cells": [
    {
      "cell_type": "markdown",
      "metadata": {
        "id": "view-in-github",
        "colab_type": "text"
      },
      "source": [
        "<a href=\"https://colab.research.google.com/github/ayushmahajan-31/Challengequestion-1/blob/main/challenge_question.ipynb\" target=\"_parent\"><img src=\"https://colab.research.google.com/assets/colab-badge.svg\" alt=\"Open In Colab\"/></a>"
      ]
    },
    {
      "cell_type": "markdown",
      "source": [
        "**challenge question**\n",
        "Write a python program to sort the list of heterogeneous data. e.g. L = [\"Ram\", 1, \"Shyam\", 2, \"Aman\", 3] print(L) L.sort() print(L)\n",
        "\n",
        "Above code gives error. Correct it\n",
        "\n"
      ],
      "metadata": {
        "id": "I8JqzQIDkTy2"
      }
    },
    {
      "cell_type": "code",
      "execution_count": 1,
      "metadata": {
        "colab": {
          "base_uri": "https://localhost:8080/"
        },
        "id": "fTDIp9hOkSwj",
        "outputId": "1c16a915-573c-4082-e987-4447ecc7f1c6"
      },
      "outputs": [
        {
          "output_type": "stream",
          "name": "stdout",
          "text": [
            "['Ram', 1, 'Shyam', 2, 'Aman', 3]\n",
            "[1, 2, 3, 'Aman', 'Ram', 'Shyam']\n"
          ]
        }
      ],
      "source": [
        "L = [\"Ram\", 1, \"Shyam\", 2, \"Aman\", 3]\n",
        "print(L)\n",
        "L[1]=str(1)\n",
        "L[3]=str(2)\n",
        "L[5]=str(3)\n",
        "L.sort()\n",
        "L[0]=1\n",
        "L[1]=2\n",
        "L[2]=3\n",
        "print(L)"
      ]
    }
  ]
}